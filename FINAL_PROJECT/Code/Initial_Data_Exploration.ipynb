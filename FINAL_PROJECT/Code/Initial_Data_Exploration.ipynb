{
 "cells": [
  {
   "cell_type": "code",
   "execution_count": 1,
   "id": "31d7f264",
   "metadata": {},
   "outputs": [],
   "source": [
    "import pandas as pd\n",
    "import numpy as np\n",
    "np.set_printoptions(suppress=True) # Suppress scientific notation where possible\n",
    "\n",
    "import json\n",
    "# from textblob import TextBlob\n",
    "import pycld2 as cld2"
   ]
  },
  {
   "cell_type": "code",
   "execution_count": 2,
   "id": "b49ce65b",
   "metadata": {},
   "outputs": [],
   "source": [
    "import regex"
   ]
  },
  {
   "cell_type": "code",
   "execution_count": 3,
   "id": "26375762",
   "metadata": {},
   "outputs": [],
   "source": [
    "# Make some room to see stuff (i.e. drop display limits on Pandas rows & cols - be careful w/ big df's!)\n",
    "\n",
    "pd.set_option('display.max_rows', 200)\n",
    "pd.set_option('display.max_columns', None)"
   ]
  },
  {
   "cell_type": "markdown",
   "id": "5f50d891",
   "metadata": {},
   "source": [
    "## 1) These 2 Datasets might be useful later for a Collaborative Recommendation Model:"
   ]
  },
  {
   "cell_type": "code",
   "execution_count": 4,
   "id": "7969adf7",
   "metadata": {},
   "outputs": [
    {
     "name": "stdout",
     "output_type": "stream",
     "text": [
      "<class 'pandas.core.frame.DataFrame'>\n",
      "RangeIndex: 10747027 entries, 0 to 10747026\n",
      "Data columns (total 4 columns):\n",
      " #   Column     Dtype  \n",
      "---  ------     -----  \n",
      " 0   userId     int64  \n",
      " 1   movieId    int64  \n",
      " 2   rating     float64\n",
      " 3   timestamp  int64  \n",
      "dtypes: float64(1), int64(3)\n",
      "memory usage: 328.0 MB\n",
      "None\n",
      "(10747027, 4)\n"
     ]
    },
    {
     "data": {
      "text/html": [
       "<div>\n",
       "<style scoped>\n",
       "    .dataframe tbody tr th:only-of-type {\n",
       "        vertical-align: middle;\n",
       "    }\n",
       "\n",
       "    .dataframe tbody tr th {\n",
       "        vertical-align: top;\n",
       "    }\n",
       "\n",
       "    .dataframe thead th {\n",
       "        text-align: right;\n",
       "    }\n",
       "</style>\n",
       "<table border=\"1\" class=\"dataframe\">\n",
       "  <thead>\n",
       "    <tr style=\"text-align: right;\">\n",
       "      <th></th>\n",
       "      <th>userId</th>\n",
       "      <th>movieId</th>\n",
       "      <th>rating</th>\n",
       "      <th>timestamp</th>\n",
       "    </tr>\n",
       "  </thead>\n",
       "  <tbody>\n",
       "    <tr>\n",
       "      <th>0</th>\n",
       "      <td>1</td>\n",
       "      <td>307</td>\n",
       "      <td>3.5</td>\n",
       "      <td>1256677221</td>\n",
       "    </tr>\n",
       "    <tr>\n",
       "      <th>1</th>\n",
       "      <td>1</td>\n",
       "      <td>481</td>\n",
       "      <td>3.5</td>\n",
       "      <td>1256677456</td>\n",
       "    </tr>\n",
       "    <tr>\n",
       "      <th>2</th>\n",
       "      <td>1</td>\n",
       "      <td>1091</td>\n",
       "      <td>1.5</td>\n",
       "      <td>1256677471</td>\n",
       "    </tr>\n",
       "    <tr>\n",
       "      <th>3</th>\n",
       "      <td>1</td>\n",
       "      <td>1257</td>\n",
       "      <td>4.5</td>\n",
       "      <td>1256677460</td>\n",
       "    </tr>\n",
       "    <tr>\n",
       "      <th>4</th>\n",
       "      <td>1</td>\n",
       "      <td>1449</td>\n",
       "      <td>4.5</td>\n",
       "      <td>1256677264</td>\n",
       "    </tr>\n",
       "  </tbody>\n",
       "</table>\n",
       "</div>"
      ],
      "text/plain": [
       "   userId  movieId  rating   timestamp\n",
       "0       1      307     3.5  1256677221\n",
       "1       1      481     3.5  1256677456\n",
       "2       1     1091     1.5  1256677471\n",
       "3       1     1257     4.5  1256677460\n",
       "4       1     1449     4.5  1256677264"
      ]
     },
     "execution_count": 4,
     "metadata": {},
     "output_type": "execute_result"
    }
   ],
   "source": [
    "ratings = pd.read_csv('datasets/ratings.csv')\n",
    "\n",
    "print(ratings.info())\n",
    "print(ratings.shape)\n",
    "ratings.head()"
   ]
  },
  {
   "cell_type": "code",
   "execution_count": 5,
   "id": "df303125",
   "metadata": {},
   "outputs": [
    {
     "data": {
      "text/plain": [
       "count    1.074703e+07\n",
       "mean     3.530689e+00\n",
       "std      1.069138e+00\n",
       "min      5.000000e-01\n",
       "25%      3.000000e+00\n",
       "50%      3.500000e+00\n",
       "75%      4.000000e+00\n",
       "max      5.000000e+00\n",
       "Name: rating, dtype: float64"
      ]
     },
     "execution_count": 5,
     "metadata": {},
     "output_type": "execute_result"
    }
   ],
   "source": [
    "ratings['rating'].describe()"
   ]
  },
  {
   "cell_type": "code",
   "execution_count": 6,
   "id": "4ecf40fe",
   "metadata": {},
   "outputs": [
    {
     "name": "stdout",
     "output_type": "stream",
     "text": [
      "<class 'pandas.core.frame.DataFrame'>\n",
      "RangeIndex: 1108997 entries, 0 to 1108996\n",
      "Data columns (total 4 columns):\n",
      " #   Column     Non-Null Count    Dtype \n",
      "---  ------     --------------    ----- \n",
      " 0   userId     1108997 non-null  int64 \n",
      " 1   movieId    1108997 non-null  int64 \n",
      " 2   tag        1108981 non-null  object\n",
      " 3   timestamp  1108997 non-null  int64 \n",
      "dtypes: int64(3), object(1)\n",
      "memory usage: 33.8+ MB\n",
      "None\n",
      "(1108997, 4)\n"
     ]
    },
    {
     "data": {
      "text/html": [
       "<div>\n",
       "<style scoped>\n",
       "    .dataframe tbody tr th:only-of-type {\n",
       "        vertical-align: middle;\n",
       "    }\n",
       "\n",
       "    .dataframe tbody tr th {\n",
       "        vertical-align: top;\n",
       "    }\n",
       "\n",
       "    .dataframe thead th {\n",
       "        text-align: right;\n",
       "    }\n",
       "</style>\n",
       "<table border=\"1\" class=\"dataframe\">\n",
       "  <thead>\n",
       "    <tr style=\"text-align: right;\">\n",
       "      <th></th>\n",
       "      <th>userId</th>\n",
       "      <th>movieId</th>\n",
       "      <th>tag</th>\n",
       "      <th>timestamp</th>\n",
       "    </tr>\n",
       "  </thead>\n",
       "  <tbody>\n",
       "    <tr>\n",
       "      <th>0</th>\n",
       "      <td>14</td>\n",
       "      <td>110</td>\n",
       "      <td>epic</td>\n",
       "      <td>1443148538</td>\n",
       "    </tr>\n",
       "    <tr>\n",
       "      <th>1</th>\n",
       "      <td>14</td>\n",
       "      <td>110</td>\n",
       "      <td>Medieval</td>\n",
       "      <td>1443148532</td>\n",
       "    </tr>\n",
       "    <tr>\n",
       "      <th>2</th>\n",
       "      <td>14</td>\n",
       "      <td>260</td>\n",
       "      <td>sci-fi</td>\n",
       "      <td>1442169410</td>\n",
       "    </tr>\n",
       "    <tr>\n",
       "      <th>3</th>\n",
       "      <td>14</td>\n",
       "      <td>260</td>\n",
       "      <td>space action</td>\n",
       "      <td>1442169421</td>\n",
       "    </tr>\n",
       "    <tr>\n",
       "      <th>4</th>\n",
       "      <td>14</td>\n",
       "      <td>318</td>\n",
       "      <td>imdb top 250</td>\n",
       "      <td>1442615195</td>\n",
       "    </tr>\n",
       "  </tbody>\n",
       "</table>\n",
       "</div>"
      ],
      "text/plain": [
       "   userId  movieId           tag   timestamp\n",
       "0      14      110          epic  1443148538\n",
       "1      14      110      Medieval  1443148532\n",
       "2      14      260        sci-fi  1442169410\n",
       "3      14      260  space action  1442169421\n",
       "4      14      318  imdb top 250  1442615195"
      ]
     },
     "execution_count": 6,
     "metadata": {},
     "output_type": "execute_result"
    }
   ],
   "source": [
    "tags = pd.read_csv('datasets/tags.csv')\n",
    "\n",
    "print(tags.info())\n",
    "print(tags.shape)\n",
    "tags.head()"
   ]
  },
  {
   "cell_type": "markdown",
   "id": "80f3cd64",
   "metadata": {},
   "source": [
    "## 2) These Datasets will be the basis for a Content-Based Recommendation Model"
   ]
  },
  {
   "cell_type": "code",
   "execution_count": 7,
   "id": "9b2c1007",
   "metadata": {},
   "outputs": [
    {
     "name": "stdout",
     "output_type": "stream",
     "text": [
      "<class 'pandas.core.frame.DataFrame'>\n",
      "RangeIndex: 58098 entries, 0 to 58097\n",
      "Data columns (total 3 columns):\n",
      " #   Column   Non-Null Count  Dtype \n",
      "---  ------   --------------  ----- \n",
      " 0   movieId  58098 non-null  int64 \n",
      " 1   title    58098 non-null  object\n",
      " 2   genres   58098 non-null  object\n",
      "dtypes: int64(1), object(2)\n",
      "memory usage: 1.3+ MB\n",
      "None\n",
      "(58098, 3)\n"
     ]
    },
    {
     "data": {
      "text/html": [
       "<div>\n",
       "<style scoped>\n",
       "    .dataframe tbody tr th:only-of-type {\n",
       "        vertical-align: middle;\n",
       "    }\n",
       "\n",
       "    .dataframe tbody tr th {\n",
       "        vertical-align: top;\n",
       "    }\n",
       "\n",
       "    .dataframe thead th {\n",
       "        text-align: right;\n",
       "    }\n",
       "</style>\n",
       "<table border=\"1\" class=\"dataframe\">\n",
       "  <thead>\n",
       "    <tr style=\"text-align: right;\">\n",
       "      <th></th>\n",
       "      <th>movieId</th>\n",
       "      <th>title</th>\n",
       "      <th>genres</th>\n",
       "    </tr>\n",
       "  </thead>\n",
       "  <tbody>\n",
       "    <tr>\n",
       "      <th>0</th>\n",
       "      <td>1</td>\n",
       "      <td>Toy Story (1995)</td>\n",
       "      <td>Adventure|Animation|Children|Comedy|Fantasy</td>\n",
       "    </tr>\n",
       "    <tr>\n",
       "      <th>1</th>\n",
       "      <td>2</td>\n",
       "      <td>Jumanji (1995)</td>\n",
       "      <td>Adventure|Children|Fantasy</td>\n",
       "    </tr>\n",
       "    <tr>\n",
       "      <th>2</th>\n",
       "      <td>3</td>\n",
       "      <td>Grumpier Old Men (1995)</td>\n",
       "      <td>Comedy|Romance</td>\n",
       "    </tr>\n",
       "    <tr>\n",
       "      <th>3</th>\n",
       "      <td>4</td>\n",
       "      <td>Waiting to Exhale (1995)</td>\n",
       "      <td>Comedy|Drama|Romance</td>\n",
       "    </tr>\n",
       "    <tr>\n",
       "      <th>4</th>\n",
       "      <td>5</td>\n",
       "      <td>Father of the Bride Part II (1995)</td>\n",
       "      <td>Comedy</td>\n",
       "    </tr>\n",
       "  </tbody>\n",
       "</table>\n",
       "</div>"
      ],
      "text/plain": [
       "   movieId                               title  \\\n",
       "0        1                    Toy Story (1995)   \n",
       "1        2                      Jumanji (1995)   \n",
       "2        3             Grumpier Old Men (1995)   \n",
       "3        4            Waiting to Exhale (1995)   \n",
       "4        5  Father of the Bride Part II (1995)   \n",
       "\n",
       "                                        genres  \n",
       "0  Adventure|Animation|Children|Comedy|Fantasy  \n",
       "1                   Adventure|Children|Fantasy  \n",
       "2                               Comedy|Romance  \n",
       "3                         Comedy|Drama|Romance  \n",
       "4                                       Comedy  "
      ]
     },
     "execution_count": 7,
     "metadata": {},
     "output_type": "execute_result"
    }
   ],
   "source": [
    "movies = pd.read_csv('datasets/movies.csv')\n",
    "\n",
    "print(movies.info())\n",
    "print(movies.shape)\n",
    "movies.head()"
   ]
  },
  {
   "cell_type": "code",
   "execution_count": 8,
   "id": "28065c4c",
   "metadata": {},
   "outputs": [
    {
     "name": "stdout",
     "output_type": "stream",
     "text": [
      "<class 'pandas.core.frame.DataFrame'>\n",
      "RangeIndex: 58098 entries, 0 to 58097\n",
      "Data columns (total 3 columns):\n",
      " #   Column   Non-Null Count  Dtype  \n",
      "---  ------   --------------  -----  \n",
      " 0   movieId  58098 non-null  int64  \n",
      " 1   imdbId   58098 non-null  int64  \n",
      " 2   tmdbId   57917 non-null  float64\n",
      "dtypes: float64(1), int64(2)\n",
      "memory usage: 1.3 MB\n",
      "None\n",
      "(58098, 3)\n"
     ]
    },
    {
     "data": {
      "text/html": [
       "<div>\n",
       "<style scoped>\n",
       "    .dataframe tbody tr th:only-of-type {\n",
       "        vertical-align: middle;\n",
       "    }\n",
       "\n",
       "    .dataframe tbody tr th {\n",
       "        vertical-align: top;\n",
       "    }\n",
       "\n",
       "    .dataframe thead th {\n",
       "        text-align: right;\n",
       "    }\n",
       "</style>\n",
       "<table border=\"1\" class=\"dataframe\">\n",
       "  <thead>\n",
       "    <tr style=\"text-align: right;\">\n",
       "      <th></th>\n",
       "      <th>movieId</th>\n",
       "      <th>imdbId</th>\n",
       "      <th>tmdbId</th>\n",
       "    </tr>\n",
       "  </thead>\n",
       "  <tbody>\n",
       "    <tr>\n",
       "      <th>0</th>\n",
       "      <td>1</td>\n",
       "      <td>114709</td>\n",
       "      <td>862.0</td>\n",
       "    </tr>\n",
       "    <tr>\n",
       "      <th>1</th>\n",
       "      <td>2</td>\n",
       "      <td>113497</td>\n",
       "      <td>8844.0</td>\n",
       "    </tr>\n",
       "    <tr>\n",
       "      <th>2</th>\n",
       "      <td>3</td>\n",
       "      <td>113228</td>\n",
       "      <td>15602.0</td>\n",
       "    </tr>\n",
       "    <tr>\n",
       "      <th>3</th>\n",
       "      <td>4</td>\n",
       "      <td>114885</td>\n",
       "      <td>31357.0</td>\n",
       "    </tr>\n",
       "    <tr>\n",
       "      <th>4</th>\n",
       "      <td>5</td>\n",
       "      <td>113041</td>\n",
       "      <td>11862.0</td>\n",
       "    </tr>\n",
       "  </tbody>\n",
       "</table>\n",
       "</div>"
      ],
      "text/plain": [
       "   movieId  imdbId   tmdbId\n",
       "0        1  114709    862.0\n",
       "1        2  113497   8844.0\n",
       "2        3  113228  15602.0\n",
       "3        4  114885  31357.0\n",
       "4        5  113041  11862.0"
      ]
     },
     "execution_count": 8,
     "metadata": {},
     "output_type": "execute_result"
    }
   ],
   "source": [
    "links = pd.read_csv('datasets/links.csv')\n",
    "\n",
    "print(links.info())\n",
    "print(links.shape)\n",
    "links.head()"
   ]
  },
  {
   "cell_type": "code",
   "execution_count": 9,
   "id": "62bcd12a",
   "metadata": {},
   "outputs": [
    {
     "name": "stdout",
     "output_type": "stream",
     "text": [
      "<class 'pandas.core.frame.DataFrame'>\n",
      "RangeIndex: 53652 entries, 0 to 53651\n",
      "Data columns (total 4 columns):\n",
      " #   Column   Non-Null Count  Dtype \n",
      "---  ------   --------------  ----- \n",
      " 0   movieId  53652 non-null  int64 \n",
      " 1   genres   53652 non-null  object\n",
      " 2   imdbId   53652 non-null  int64 \n",
      " 3   tmdbId   53652 non-null  int64 \n",
      "dtypes: int64(3), object(1)\n",
      "memory usage: 1.6+ MB\n",
      "None\n"
     ]
    },
    {
     "data": {
      "text/html": [
       "<div>\n",
       "<style scoped>\n",
       "    .dataframe tbody tr th:only-of-type {\n",
       "        vertical-align: middle;\n",
       "    }\n",
       "\n",
       "    .dataframe tbody tr th {\n",
       "        vertical-align: top;\n",
       "    }\n",
       "\n",
       "    .dataframe thead th {\n",
       "        text-align: right;\n",
       "    }\n",
       "</style>\n",
       "<table border=\"1\" class=\"dataframe\">\n",
       "  <thead>\n",
       "    <tr style=\"text-align: right;\">\n",
       "      <th></th>\n",
       "      <th>movieId</th>\n",
       "      <th>genres</th>\n",
       "      <th>imdbId</th>\n",
       "      <th>tmdbId</th>\n",
       "    </tr>\n",
       "  </thead>\n",
       "  <tbody>\n",
       "    <tr>\n",
       "      <th>0</th>\n",
       "      <td>1</td>\n",
       "      <td>Adventure|Animation|Children|Comedy|Fantasy</td>\n",
       "      <td>114709</td>\n",
       "      <td>862</td>\n",
       "    </tr>\n",
       "    <tr>\n",
       "      <th>1</th>\n",
       "      <td>2</td>\n",
       "      <td>Adventure|Children|Fantasy</td>\n",
       "      <td>113497</td>\n",
       "      <td>8844</td>\n",
       "    </tr>\n",
       "    <tr>\n",
       "      <th>2</th>\n",
       "      <td>3</td>\n",
       "      <td>Comedy|Romance</td>\n",
       "      <td>113228</td>\n",
       "      <td>15602</td>\n",
       "    </tr>\n",
       "    <tr>\n",
       "      <th>3</th>\n",
       "      <td>4</td>\n",
       "      <td>Comedy|Drama|Romance</td>\n",
       "      <td>114885</td>\n",
       "      <td>31357</td>\n",
       "    </tr>\n",
       "    <tr>\n",
       "      <th>4</th>\n",
       "      <td>5</td>\n",
       "      <td>Comedy</td>\n",
       "      <td>113041</td>\n",
       "      <td>11862</td>\n",
       "    </tr>\n",
       "  </tbody>\n",
       "</table>\n",
       "</div>"
      ],
      "text/plain": [
       "   movieId                                       genres  imdbId  tmdbId\n",
       "0        1  Adventure|Animation|Children|Comedy|Fantasy  114709     862\n",
       "1        2                   Adventure|Children|Fantasy  113497    8844\n",
       "2        3                               Comedy|Romance  113228   15602\n",
       "3        4                         Comedy|Drama|Romance  114885   31357\n",
       "4        5                                       Comedy  113041   11862"
      ]
     },
     "execution_count": 9,
     "metadata": {},
     "output_type": "execute_result"
    }
   ],
   "source": [
    "links = links[~links['tmdbId'].isna()]\n",
    "\n",
    "movies = movies[['movieId', 'genres']].merge(links, on='movieId', how='inner')\n",
    "\n",
    "movies = movies[~(movies['genres'] == '(no genres listed)')]\n",
    "movies['tmdbId'] = movies['tmdbId'].astype('int')\n",
    "movies = movies.reset_index(drop=True)\n",
    "\n",
    "print(movies.info())\n",
    "movies.head()"
   ]
  },
  {
   "cell_type": "code",
   "execution_count": 10,
   "id": "12d6b64d",
   "metadata": {},
   "outputs": [
    {
     "name": "stdout",
     "output_type": "stream",
     "text": [
      "<class 'pandas.core.frame.DataFrame'>\n",
      "RangeIndex: 57160 entries, 0 to 57159\n",
      "Data columns (total 3 columns):\n",
      " #   Column    Non-Null Count  Dtype \n",
      "---  ------    --------------  ----- \n",
      " 0   tmdbId    57160 non-null  int64 \n",
      " 1   title     57160 non-null  object\n",
      " 2   overview  57160 non-null  object\n",
      "dtypes: int64(1), object(2)\n",
      "memory usage: 1.3+ MB\n",
      "None\n",
      "(57160, 3)\n"
     ]
    },
    {
     "data": {
      "text/html": [
       "<div>\n",
       "<style scoped>\n",
       "    .dataframe tbody tr th:only-of-type {\n",
       "        vertical-align: middle;\n",
       "    }\n",
       "\n",
       "    .dataframe tbody tr th {\n",
       "        vertical-align: top;\n",
       "    }\n",
       "\n",
       "    .dataframe thead th {\n",
       "        text-align: right;\n",
       "    }\n",
       "</style>\n",
       "<table border=\"1\" class=\"dataframe\">\n",
       "  <thead>\n",
       "    <tr style=\"text-align: right;\">\n",
       "      <th></th>\n",
       "      <th>tmdbId</th>\n",
       "      <th>title</th>\n",
       "      <th>overview</th>\n",
       "    </tr>\n",
       "  </thead>\n",
       "  <tbody>\n",
       "    <tr>\n",
       "      <th>0</th>\n",
       "      <td>862</td>\n",
       "      <td>Toy Story</td>\n",
       "      <td>Led by Woody, Andy's toys live happily in his ...</td>\n",
       "    </tr>\n",
       "    <tr>\n",
       "      <th>1</th>\n",
       "      <td>8844</td>\n",
       "      <td>Jumanji</td>\n",
       "      <td>When siblings Judy and Peter discover an encha...</td>\n",
       "    </tr>\n",
       "    <tr>\n",
       "      <th>2</th>\n",
       "      <td>15602</td>\n",
       "      <td>Grumpier Old Men</td>\n",
       "      <td>A family wedding reignites the ancient feud be...</td>\n",
       "    </tr>\n",
       "    <tr>\n",
       "      <th>3</th>\n",
       "      <td>31357</td>\n",
       "      <td>Waiting to Exhale</td>\n",
       "      <td>Cheated on, mistreated and stepped on, the wom...</td>\n",
       "    </tr>\n",
       "    <tr>\n",
       "      <th>4</th>\n",
       "      <td>11862</td>\n",
       "      <td>Father of the Bride Part II</td>\n",
       "      <td>Just when George Banks has recovered from his ...</td>\n",
       "    </tr>\n",
       "  </tbody>\n",
       "</table>\n",
       "</div>"
      ],
      "text/plain": [
       "   tmdbId                        title  \\\n",
       "0     862                    Toy Story   \n",
       "1    8844                      Jumanji   \n",
       "2   15602             Grumpier Old Men   \n",
       "3   31357            Waiting to Exhale   \n",
       "4   11862  Father of the Bride Part II   \n",
       "\n",
       "                                            overview  \n",
       "0  Led by Woody, Andy's toys live happily in his ...  \n",
       "1  When siblings Judy and Peter discover an encha...  \n",
       "2  A family wedding reignites the ancient feud be...  \n",
       "3  Cheated on, mistreated and stepped on, the wom...  \n",
       "4  Just when George Banks has recovered from his ...  "
      ]
     },
     "execution_count": 10,
     "metadata": {},
     "output_type": "execute_result"
    }
   ],
   "source": [
    "details = pd.read_json('datasets/details.json')\n",
    "details = details[['id', 'title', 'overview']].rename(columns={'id': 'tmdbId'})\n",
    "\n",
    "print(details.info())\n",
    "print(details.shape)\n",
    "details.head()"
   ]
  },
  {
   "cell_type": "code",
   "execution_count": 11,
   "id": "359d5cd9",
   "metadata": {},
   "outputs": [
    {
     "name": "stdout",
     "output_type": "stream",
     "text": [
      "<class 'pandas.core.frame.DataFrame'>\n",
      "RangeIndex: 53064 entries, 0 to 53063\n",
      "Data columns (total 6 columns):\n",
      " #   Column    Non-Null Count  Dtype \n",
      "---  ------    --------------  ----- \n",
      " 0   movieId   53064 non-null  int64 \n",
      " 1   tmdbId    53064 non-null  int64 \n",
      " 2   imdbId    53064 non-null  int64 \n",
      " 3   title     53064 non-null  object\n",
      " 4   genres    53064 non-null  object\n",
      " 5   overview  53064 non-null  object\n",
      "dtypes: int64(3), object(3)\n",
      "memory usage: 2.4+ MB\n",
      "None\n",
      "(53064, 6)\n"
     ]
    },
    {
     "data": {
      "text/html": [
       "<div>\n",
       "<style scoped>\n",
       "    .dataframe tbody tr th:only-of-type {\n",
       "        vertical-align: middle;\n",
       "    }\n",
       "\n",
       "    .dataframe tbody tr th {\n",
       "        vertical-align: top;\n",
       "    }\n",
       "\n",
       "    .dataframe thead th {\n",
       "        text-align: right;\n",
       "    }\n",
       "</style>\n",
       "<table border=\"1\" class=\"dataframe\">\n",
       "  <thead>\n",
       "    <tr style=\"text-align: right;\">\n",
       "      <th></th>\n",
       "      <th>movieId</th>\n",
       "      <th>tmdbId</th>\n",
       "      <th>imdbId</th>\n",
       "      <th>title</th>\n",
       "      <th>genres</th>\n",
       "      <th>overview</th>\n",
       "    </tr>\n",
       "  </thead>\n",
       "  <tbody>\n",
       "    <tr>\n",
       "      <th>0</th>\n",
       "      <td>1</td>\n",
       "      <td>862</td>\n",
       "      <td>114709</td>\n",
       "      <td>Toy Story</td>\n",
       "      <td>Adventure|Animation|Children|Comedy|Fantasy</td>\n",
       "      <td>Led by Woody, Andy's toys live happily in his ...</td>\n",
       "    </tr>\n",
       "    <tr>\n",
       "      <th>1</th>\n",
       "      <td>2</td>\n",
       "      <td>8844</td>\n",
       "      <td>113497</td>\n",
       "      <td>Jumanji</td>\n",
       "      <td>Adventure|Children|Fantasy</td>\n",
       "      <td>When siblings Judy and Peter discover an encha...</td>\n",
       "    </tr>\n",
       "    <tr>\n",
       "      <th>2</th>\n",
       "      <td>3</td>\n",
       "      <td>15602</td>\n",
       "      <td>113228</td>\n",
       "      <td>Grumpier Old Men</td>\n",
       "      <td>Comedy|Romance</td>\n",
       "      <td>A family wedding reignites the ancient feud be...</td>\n",
       "    </tr>\n",
       "    <tr>\n",
       "      <th>3</th>\n",
       "      <td>4</td>\n",
       "      <td>31357</td>\n",
       "      <td>114885</td>\n",
       "      <td>Waiting to Exhale</td>\n",
       "      <td>Comedy|Drama|Romance</td>\n",
       "      <td>Cheated on, mistreated and stepped on, the wom...</td>\n",
       "    </tr>\n",
       "    <tr>\n",
       "      <th>4</th>\n",
       "      <td>5</td>\n",
       "      <td>11862</td>\n",
       "      <td>113041</td>\n",
       "      <td>Father of the Bride Part II</td>\n",
       "      <td>Comedy</td>\n",
       "      <td>Just when George Banks has recovered from his ...</td>\n",
       "    </tr>\n",
       "  </tbody>\n",
       "</table>\n",
       "</div>"
      ],
      "text/plain": [
       "   movieId  tmdbId  imdbId                        title  \\\n",
       "0        1     862  114709                    Toy Story   \n",
       "1        2    8844  113497                      Jumanji   \n",
       "2        3   15602  113228             Grumpier Old Men   \n",
       "3        4   31357  114885            Waiting to Exhale   \n",
       "4        5   11862  113041  Father of the Bride Part II   \n",
       "\n",
       "                                        genres  \\\n",
       "0  Adventure|Animation|Children|Comedy|Fantasy   \n",
       "1                   Adventure|Children|Fantasy   \n",
       "2                               Comedy|Romance   \n",
       "3                         Comedy|Drama|Romance   \n",
       "4                                       Comedy   \n",
       "\n",
       "                                            overview  \n",
       "0  Led by Woody, Andy's toys live happily in his ...  \n",
       "1  When siblings Judy and Peter discover an encha...  \n",
       "2  A family wedding reignites the ancient feud be...  \n",
       "3  Cheated on, mistreated and stepped on, the wom...  \n",
       "4  Just when George Banks has recovered from his ...  "
      ]
     },
     "execution_count": 11,
     "metadata": {},
     "output_type": "execute_result"
    }
   ],
   "source": [
    "movies = movies.merge(details, on='tmdbId', how='inner') \\\n",
    "               .rename(columns={'genres_x': 'genres'})\n",
    "movies = movies[['movieId', 'tmdbId', 'imdbId', 'title', 'genres', 'overview']]\n",
    "movies = movies.reset_index(drop=True)\n",
    "\n",
    "print(movies.info())\n",
    "print(movies.shape)\n",
    "movies.head()"
   ]
  },
  {
   "cell_type": "code",
   "execution_count": 12,
   "id": "d0404577",
   "metadata": {},
   "outputs": [
    {
     "name": "stdout",
     "output_type": "stream",
     "text": [
      "<class 'pandas.core.frame.DataFrame'>\n",
      "RangeIndex: 51362 entries, 0 to 51361\n",
      "Data columns (total 6 columns):\n",
      " #   Column        Non-Null Count  Dtype  \n",
      "---  ------        --------------  -----  \n",
      " 0   tmdbId        51362 non-null  int64  \n",
      " 1   actor1_id     51362 non-null  float64\n",
      " 2   actor2_id     51362 non-null  float64\n",
      " 3   actor3_id     51362 non-null  float64\n",
      " 4   actor4_id     51362 non-null  float64\n",
      " 5   director1_id  51362 non-null  float64\n",
      "dtypes: float64(5), int64(1)\n",
      "memory usage: 2.4 MB\n",
      "None\n",
      "(51362, 6)\n"
     ]
    },
    {
     "data": {
      "text/html": [
       "<div>\n",
       "<style scoped>\n",
       "    .dataframe tbody tr th:only-of-type {\n",
       "        vertical-align: middle;\n",
       "    }\n",
       "\n",
       "    .dataframe tbody tr th {\n",
       "        vertical-align: top;\n",
       "    }\n",
       "\n",
       "    .dataframe thead th {\n",
       "        text-align: right;\n",
       "    }\n",
       "</style>\n",
       "<table border=\"1\" class=\"dataframe\">\n",
       "  <thead>\n",
       "    <tr style=\"text-align: right;\">\n",
       "      <th></th>\n",
       "      <th>tmdbId</th>\n",
       "      <th>actor1_id</th>\n",
       "      <th>actor2_id</th>\n",
       "      <th>actor3_id</th>\n",
       "      <th>actor4_id</th>\n",
       "      <th>director1_id</th>\n",
       "    </tr>\n",
       "  </thead>\n",
       "  <tbody>\n",
       "    <tr>\n",
       "      <th>0</th>\n",
       "      <td>862</td>\n",
       "      <td>31.0</td>\n",
       "      <td>12898.0</td>\n",
       "      <td>7167.0</td>\n",
       "      <td>12899.0</td>\n",
       "      <td>7879.0</td>\n",
       "    </tr>\n",
       "    <tr>\n",
       "      <th>1</th>\n",
       "      <td>8844</td>\n",
       "      <td>2157.0</td>\n",
       "      <td>205.0</td>\n",
       "      <td>145151.0</td>\n",
       "      <td>5149.0</td>\n",
       "      <td>4945.0</td>\n",
       "    </tr>\n",
       "    <tr>\n",
       "      <th>2</th>\n",
       "      <td>15602</td>\n",
       "      <td>6837.0</td>\n",
       "      <td>3151.0</td>\n",
       "      <td>13567.0</td>\n",
       "      <td>16757.0</td>\n",
       "      <td>26502.0</td>\n",
       "    </tr>\n",
       "    <tr>\n",
       "      <th>3</th>\n",
       "      <td>31357</td>\n",
       "      <td>8851.0</td>\n",
       "      <td>9780.0</td>\n",
       "      <td>18284.0</td>\n",
       "      <td>51359.0</td>\n",
       "      <td>2178.0</td>\n",
       "    </tr>\n",
       "    <tr>\n",
       "      <th>4</th>\n",
       "      <td>11862</td>\n",
       "      <td>67773.0</td>\n",
       "      <td>3092.0</td>\n",
       "      <td>519.0</td>\n",
       "      <td>70696.0</td>\n",
       "      <td>56106.0</td>\n",
       "    </tr>\n",
       "  </tbody>\n",
       "</table>\n",
       "</div>"
      ],
      "text/plain": [
       "   tmdbId  actor1_id  actor2_id  actor3_id  actor4_id  director1_id\n",
       "0     862       31.0    12898.0     7167.0    12899.0        7879.0\n",
       "1    8844     2157.0      205.0   145151.0     5149.0        4945.0\n",
       "2   15602     6837.0     3151.0    13567.0    16757.0       26502.0\n",
       "3   31357     8851.0     9780.0    18284.0    51359.0        2178.0\n",
       "4   11862    67773.0     3092.0      519.0    70696.0       56106.0"
      ]
     },
     "execution_count": 12,
     "metadata": {},
     "output_type": "execute_result"
    }
   ],
   "source": [
    "people = pd.read_json('datasets/people.json')[['id', 'actor1_id', 'actor2_id', \n",
    "                                               'actor3_id', 'actor4_id', 'director1_id', ]] \\\n",
    "           .rename(columns={'id': 'tmdbId'})\n",
    "\n",
    "people = people[~people.isna().any(axis=1)].reset_index(drop=True)\n",
    "\n",
    "print(people.info())\n",
    "print(people.shape)\n",
    "people.head()"
   ]
  },
  {
   "cell_type": "code",
   "execution_count": 13,
   "id": "1d48681f",
   "metadata": {},
   "outputs": [
    {
     "name": "stdout",
     "output_type": "stream",
     "text": [
      "<class 'pandas.core.frame.DataFrame'>\n",
      "RangeIndex: 93346 entries, 0 to 93345\n",
      "Data columns (total 2 columns):\n",
      " #   Column  Non-Null Count  Dtype  \n",
      "---  ------  --------------  -----  \n",
      " 0   id      93344 non-null  float64\n",
      " 1   name    93346 non-null  object \n",
      "dtypes: float64(1), object(1)\n",
      "memory usage: 1.4+ MB\n",
      "None\n",
      "(93346, 2)\n"
     ]
    },
    {
     "data": {
      "text/html": [
       "<div>\n",
       "<style scoped>\n",
       "    .dataframe tbody tr th:only-of-type {\n",
       "        vertical-align: middle;\n",
       "    }\n",
       "\n",
       "    .dataframe tbody tr th {\n",
       "        vertical-align: top;\n",
       "    }\n",
       "\n",
       "    .dataframe thead th {\n",
       "        text-align: right;\n",
       "    }\n",
       "</style>\n",
       "<table border=\"1\" class=\"dataframe\">\n",
       "  <thead>\n",
       "    <tr style=\"text-align: right;\">\n",
       "      <th></th>\n",
       "      <th>id</th>\n",
       "      <th>name</th>\n",
       "    </tr>\n",
       "  </thead>\n",
       "  <tbody>\n",
       "    <tr>\n",
       "      <th>0</th>\n",
       "      <td>1.0</td>\n",
       "      <td>george_lucas</td>\n",
       "    </tr>\n",
       "    <tr>\n",
       "      <th>1</th>\n",
       "      <td>2.0</td>\n",
       "      <td>mark_hamill</td>\n",
       "    </tr>\n",
       "    <tr>\n",
       "      <th>2</th>\n",
       "      <td>3.0</td>\n",
       "      <td>harrison_ford</td>\n",
       "    </tr>\n",
       "    <tr>\n",
       "      <th>3</th>\n",
       "      <td>4.0</td>\n",
       "      <td>carrie_fisher</td>\n",
       "    </tr>\n",
       "    <tr>\n",
       "      <th>4</th>\n",
       "      <td>5.0</td>\n",
       "      <td>peter_cushing</td>\n",
       "    </tr>\n",
       "  </tbody>\n",
       "</table>\n",
       "</div>"
      ],
      "text/plain": [
       "    id           name\n",
       "0  1.0   george_lucas\n",
       "1  2.0    mark_hamill\n",
       "2  3.0  harrison_ford\n",
       "3  4.0  carrie_fisher\n",
       "4  5.0  peter_cushing"
      ]
     },
     "execution_count": 13,
     "metadata": {},
     "output_type": "execute_result"
    }
   ],
   "source": [
    "actors_df = pd.read_json('datasets/actors.json')[['id', 'name']]\n",
    "actors_df['name'] = actors_df['name'].apply(lambda x: str(x).replace(' ', '_').lower())\n",
    "\n",
    "print(actors_df.info())\n",
    "print(actors_df.shape)\n",
    "actors_df.head()"
   ]
  },
  {
   "cell_type": "code",
   "execution_count": 14,
   "id": "f2a4af18",
   "metadata": {},
   "outputs": [
    {
     "name": "stdout",
     "output_type": "stream",
     "text": [
      "<class 'pandas.core.frame.DataFrame'>\n",
      "RangeIndex: 24223 entries, 0 to 24222\n",
      "Data columns (total 2 columns):\n",
      " #   Column  Non-Null Count  Dtype \n",
      "---  ------  --------------  ----- \n",
      " 0   id      24223 non-null  int64 \n",
      " 1   name    24223 non-null  object\n",
      "dtypes: int64(1), object(1)\n",
      "memory usage: 378.6+ KB\n",
      "None\n",
      "(24223, 2)\n"
     ]
    },
    {
     "data": {
      "text/html": [
       "<div>\n",
       "<style scoped>\n",
       "    .dataframe tbody tr th:only-of-type {\n",
       "        vertical-align: middle;\n",
       "    }\n",
       "\n",
       "    .dataframe tbody tr th {\n",
       "        vertical-align: top;\n",
       "    }\n",
       "\n",
       "    .dataframe thead th {\n",
       "        text-align: right;\n",
       "    }\n",
       "</style>\n",
       "<table border=\"1\" class=\"dataframe\">\n",
       "  <thead>\n",
       "    <tr style=\"text-align: right;\">\n",
       "      <th></th>\n",
       "      <th>id</th>\n",
       "      <th>name</th>\n",
       "    </tr>\n",
       "  </thead>\n",
       "  <tbody>\n",
       "    <tr>\n",
       "      <th>0</th>\n",
       "      <td>1</td>\n",
       "      <td>george_lucas</td>\n",
       "    </tr>\n",
       "    <tr>\n",
       "      <th>1</th>\n",
       "      <td>2</td>\n",
       "      <td>mark_hamill</td>\n",
       "    </tr>\n",
       "    <tr>\n",
       "      <th>2</th>\n",
       "      <td>7</td>\n",
       "      <td>andrew_stanton</td>\n",
       "    </tr>\n",
       "    <tr>\n",
       "      <th>3</th>\n",
       "      <td>8</td>\n",
       "      <td>lee_unkrich</td>\n",
       "    </tr>\n",
       "    <tr>\n",
       "      <th>4</th>\n",
       "      <td>13</td>\n",
       "      <td>albert_brooks</td>\n",
       "    </tr>\n",
       "  </tbody>\n",
       "</table>\n",
       "</div>"
      ],
      "text/plain": [
       "   id            name\n",
       "0   1    george_lucas\n",
       "1   2     mark_hamill\n",
       "2   7  andrew_stanton\n",
       "3   8     lee_unkrich\n",
       "4  13   albert_brooks"
      ]
     },
     "execution_count": 14,
     "metadata": {},
     "output_type": "execute_result"
    }
   ],
   "source": [
    "directors_df = pd.read_json('datasets/directors.json')[['id', 'name']]\n",
    "directors_df['name'] = directors_df['name'].apply(lambda x: str(x).replace(' ', '_').lower())\n",
    "\n",
    "print(directors_df.info())\n",
    "print(directors_df.shape)\n",
    "directors_df.head()"
   ]
  },
  {
   "cell_type": "code",
   "execution_count": 15,
   "id": "2252e3c8",
   "metadata": {},
   "outputs": [
    {
     "name": "stdout",
     "output_type": "stream",
     "text": [
      "<class 'pandas.core.frame.DataFrame'>\n",
      "RangeIndex: 51362 entries, 0 to 51361\n",
      "Data columns (total 3 columns):\n",
      " #   Column    Non-Null Count  Dtype \n",
      "---  ------    --------------  ----- \n",
      " 0   tmdbId    51362 non-null  int64 \n",
      " 1   director  51362 non-null  object\n",
      " 2   actors    51362 non-null  object\n",
      "dtypes: int64(1), object(2)\n",
      "memory usage: 1.2+ MB\n",
      "None\n",
      "(51362, 3)\n"
     ]
    },
    {
     "data": {
      "text/html": [
       "<div>\n",
       "<style scoped>\n",
       "    .dataframe tbody tr th:only-of-type {\n",
       "        vertical-align: middle;\n",
       "    }\n",
       "\n",
       "    .dataframe tbody tr th {\n",
       "        vertical-align: top;\n",
       "    }\n",
       "\n",
       "    .dataframe thead th {\n",
       "        text-align: right;\n",
       "    }\n",
       "</style>\n",
       "<table border=\"1\" class=\"dataframe\">\n",
       "  <thead>\n",
       "    <tr style=\"text-align: right;\">\n",
       "      <th></th>\n",
       "      <th>tmdbId</th>\n",
       "      <th>director</th>\n",
       "      <th>actors</th>\n",
       "    </tr>\n",
       "  </thead>\n",
       "  <tbody>\n",
       "    <tr>\n",
       "      <th>0</th>\n",
       "      <td>862</td>\n",
       "      <td>john_lasseter</td>\n",
       "      <td>[tom_hanks, tim_allen, don_rickles, jim_varney]</td>\n",
       "    </tr>\n",
       "    <tr>\n",
       "      <th>1</th>\n",
       "      <td>8844</td>\n",
       "      <td>joe_johnston</td>\n",
       "      <td>[robin_williams, kirsten_dunst, bradley_pierce...</td>\n",
       "    </tr>\n",
       "    <tr>\n",
       "      <th>2</th>\n",
       "      <td>15602</td>\n",
       "      <td>howard_deutch</td>\n",
       "      <td>[walter_matthau, jack_lemmon, ann-margret, sop...</td>\n",
       "    </tr>\n",
       "    <tr>\n",
       "      <th>3</th>\n",
       "      <td>31357</td>\n",
       "      <td>forest_whitaker</td>\n",
       "      <td>[whitney_houston, angela_bassett, loretta_devi...</td>\n",
       "    </tr>\n",
       "    <tr>\n",
       "      <th>4</th>\n",
       "      <td>11862</td>\n",
       "      <td>charles_shyer</td>\n",
       "      <td>[steve_martin, diane_keaton, martin_short, kim...</td>\n",
       "    </tr>\n",
       "  </tbody>\n",
       "</table>\n",
       "</div>"
      ],
      "text/plain": [
       "   tmdbId         director                                             actors\n",
       "0     862    john_lasseter    [tom_hanks, tim_allen, don_rickles, jim_varney]\n",
       "1    8844     joe_johnston  [robin_williams, kirsten_dunst, bradley_pierce...\n",
       "2   15602    howard_deutch  [walter_matthau, jack_lemmon, ann-margret, sop...\n",
       "3   31357  forest_whitaker  [whitney_houston, angela_bassett, loretta_devi...\n",
       "4   11862    charles_shyer  [steve_martin, diane_keaton, martin_short, kim..."
      ]
     },
     "execution_count": 15,
     "metadata": {},
     "output_type": "execute_result"
    }
   ],
   "source": [
    "people['actor1'] = people['actor1_id'].replace(actors_df.set_index('id')['name'])\n",
    "people['actor2'] = people['actor2_id'].replace(actors_df.set_index('id')['name'])\n",
    "people['actor3'] = people['actor3_id'].replace(actors_df.set_index('id')['name'])\n",
    "people['actor4'] = people['actor4_id'].replace(actors_df.set_index('id')['name'])\n",
    "people['director'] = people['director1_id'].replace(directors_df.set_index('id')['name'])\n",
    "\n",
    "people['actors'] = people[['actor1', 'actor2', 'actor3', 'actor4']].values.tolist()\n",
    "people = people[['tmdbId', 'director', 'actors']]\n",
    "\n",
    "print(people.info())\n",
    "print(people.shape)\n",
    "people.head()"
   ]
  },
  {
   "cell_type": "code",
   "execution_count": 16,
   "id": "2a4db953",
   "metadata": {},
   "outputs": [
    {
     "data": {
      "text/plain": [
       "tmdbId      False\n",
       "director    False\n",
       "actors      False\n",
       "dtype: bool"
      ]
     },
     "execution_count": 16,
     "metadata": {},
     "output_type": "execute_result"
    }
   ],
   "source": [
    "people.isna().any()"
   ]
  },
  {
   "cell_type": "code",
   "execution_count": 17,
   "id": "10f70ff1",
   "metadata": {},
   "outputs": [
    {
     "data": {
      "text/plain": [
       "movieId     False\n",
       "tmdbId      False\n",
       "imdbId      False\n",
       "title       False\n",
       "genres      False\n",
       "overview    False\n",
       "dtype: bool"
      ]
     },
     "execution_count": 17,
     "metadata": {},
     "output_type": "execute_result"
    }
   ],
   "source": [
    "movies.isna().any()"
   ]
  },
  {
   "cell_type": "code",
   "execution_count": 18,
   "id": "43207cf4",
   "metadata": {},
   "outputs": [
    {
     "name": "stdout",
     "output_type": "stream",
     "text": [
      "<class 'pandas.core.frame.DataFrame'>\n",
      "Int64Index: 48267 entries, 0 to 48266\n",
      "Data columns (total 8 columns):\n",
      " #   Column    Non-Null Count  Dtype \n",
      "---  ------    --------------  ----- \n",
      " 0   movieId   48267 non-null  int64 \n",
      " 1   tmdbId    48267 non-null  int64 \n",
      " 2   imdbId    48267 non-null  int64 \n",
      " 3   title     48267 non-null  object\n",
      " 4   genres    48267 non-null  object\n",
      " 5   overview  48267 non-null  object\n",
      " 6   director  48267 non-null  object\n",
      " 7   actors    48267 non-null  object\n",
      "dtypes: int64(3), object(5)\n",
      "memory usage: 3.3+ MB\n",
      "None\n",
      "(48267, 8)\n"
     ]
    },
    {
     "data": {
      "text/html": [
       "<div>\n",
       "<style scoped>\n",
       "    .dataframe tbody tr th:only-of-type {\n",
       "        vertical-align: middle;\n",
       "    }\n",
       "\n",
       "    .dataframe tbody tr th {\n",
       "        vertical-align: top;\n",
       "    }\n",
       "\n",
       "    .dataframe thead th {\n",
       "        text-align: right;\n",
       "    }\n",
       "</style>\n",
       "<table border=\"1\" class=\"dataframe\">\n",
       "  <thead>\n",
       "    <tr style=\"text-align: right;\">\n",
       "      <th></th>\n",
       "      <th>movieId</th>\n",
       "      <th>tmdbId</th>\n",
       "      <th>imdbId</th>\n",
       "      <th>title</th>\n",
       "      <th>genres</th>\n",
       "      <th>overview</th>\n",
       "      <th>director</th>\n",
       "      <th>actors</th>\n",
       "    </tr>\n",
       "  </thead>\n",
       "  <tbody>\n",
       "    <tr>\n",
       "      <th>0</th>\n",
       "      <td>1</td>\n",
       "      <td>862</td>\n",
       "      <td>114709</td>\n",
       "      <td>Toy Story</td>\n",
       "      <td>[Adventure, Animation, Children, Comedy, Fantasy]</td>\n",
       "      <td>Led by Woody, Andy's toys live happily in his ...</td>\n",
       "      <td>john_lasseter</td>\n",
       "      <td>[tom_hanks, tim_allen, don_rickles, jim_varney]</td>\n",
       "    </tr>\n",
       "    <tr>\n",
       "      <th>1</th>\n",
       "      <td>2</td>\n",
       "      <td>8844</td>\n",
       "      <td>113497</td>\n",
       "      <td>Jumanji</td>\n",
       "      <td>[Adventure, Children, Fantasy]</td>\n",
       "      <td>When siblings Judy and Peter discover an encha...</td>\n",
       "      <td>joe_johnston</td>\n",
       "      <td>[robin_williams, kirsten_dunst, bradley_pierce...</td>\n",
       "    </tr>\n",
       "    <tr>\n",
       "      <th>2</th>\n",
       "      <td>3</td>\n",
       "      <td>15602</td>\n",
       "      <td>113228</td>\n",
       "      <td>Grumpier Old Men</td>\n",
       "      <td>[Comedy, Romance]</td>\n",
       "      <td>A family wedding reignites the ancient feud be...</td>\n",
       "      <td>howard_deutch</td>\n",
       "      <td>[walter_matthau, jack_lemmon, ann-margret, sop...</td>\n",
       "    </tr>\n",
       "    <tr>\n",
       "      <th>3</th>\n",
       "      <td>4</td>\n",
       "      <td>31357</td>\n",
       "      <td>114885</td>\n",
       "      <td>Waiting to Exhale</td>\n",
       "      <td>[Comedy, Drama, Romance]</td>\n",
       "      <td>Cheated on, mistreated and stepped on, the wom...</td>\n",
       "      <td>forest_whitaker</td>\n",
       "      <td>[whitney_houston, angela_bassett, loretta_devi...</td>\n",
       "    </tr>\n",
       "    <tr>\n",
       "      <th>4</th>\n",
       "      <td>5</td>\n",
       "      <td>11862</td>\n",
       "      <td>113041</td>\n",
       "      <td>Father of the Bride Part II</td>\n",
       "      <td>[Comedy]</td>\n",
       "      <td>Just when George Banks has recovered from his ...</td>\n",
       "      <td>charles_shyer</td>\n",
       "      <td>[steve_martin, diane_keaton, martin_short, kim...</td>\n",
       "    </tr>\n",
       "  </tbody>\n",
       "</table>\n",
       "</div>"
      ],
      "text/plain": [
       "   movieId  tmdbId  imdbId                        title  \\\n",
       "0        1     862  114709                    Toy Story   \n",
       "1        2    8844  113497                      Jumanji   \n",
       "2        3   15602  113228             Grumpier Old Men   \n",
       "3        4   31357  114885            Waiting to Exhale   \n",
       "4        5   11862  113041  Father of the Bride Part II   \n",
       "\n",
       "                                              genres  \\\n",
       "0  [Adventure, Animation, Children, Comedy, Fantasy]   \n",
       "1                     [Adventure, Children, Fantasy]   \n",
       "2                                  [Comedy, Romance]   \n",
       "3                           [Comedy, Drama, Romance]   \n",
       "4                                           [Comedy]   \n",
       "\n",
       "                                            overview         director  \\\n",
       "0  Led by Woody, Andy's toys live happily in his ...    john_lasseter   \n",
       "1  When siblings Judy and Peter discover an encha...     joe_johnston   \n",
       "2  A family wedding reignites the ancient feud be...    howard_deutch   \n",
       "3  Cheated on, mistreated and stepped on, the wom...  forest_whitaker   \n",
       "4  Just when George Banks has recovered from his ...    charles_shyer   \n",
       "\n",
       "                                              actors  \n",
       "0    [tom_hanks, tim_allen, don_rickles, jim_varney]  \n",
       "1  [robin_williams, kirsten_dunst, bradley_pierce...  \n",
       "2  [walter_matthau, jack_lemmon, ann-margret, sop...  \n",
       "3  [whitney_houston, angela_bassett, loretta_devi...  \n",
       "4  [steve_martin, diane_keaton, martin_short, kim...  "
      ]
     },
     "execution_count": 18,
     "metadata": {},
     "output_type": "execute_result"
    }
   ],
   "source": [
    "movies = movies.merge(people, on='tmdbId')\n",
    "movies.reset_index(drop=True)\n",
    "\n",
    "movies['genres'] = movies['genres'].apply(lambda x: str(x).split('|'))\n",
    "\n",
    "print(movies.info())\n",
    "print(movies.shape)\n",
    "movies.head()"
   ]
  },
  {
   "cell_type": "markdown",
   "id": "07d3a2f6",
   "metadata": {},
   "source": [
    "### Need to establish the minimum length of a valid/non-trivial 'overview'"
   ]
  },
  {
   "cell_type": "code",
   "execution_count": 20,
   "id": "94479ad5",
   "metadata": {},
   "outputs": [
    {
     "data": {
      "text/plain": [
       "(403, 8)"
      ]
     },
     "execution_count": 20,
     "metadata": {},
     "output_type": "execute_result"
    }
   ],
   "source": [
    "movies[movies['overview'].apply(lambda x: len(x)) == 0].shape"
   ]
  },
  {
   "cell_type": "code",
   "execution_count": 21,
   "id": "ef975290",
   "metadata": {},
   "outputs": [
    {
     "data": {
      "text/plain": [
       "11"
      ]
     },
     "execution_count": 21,
     "metadata": {},
     "output_type": "execute_result"
    }
   ],
   "source": [
    "movies[~(movies['overview'].apply(lambda x: len(x)) == 0)]['overview'].apply(lambda x: len(x)).min()"
   ]
  },
  {
   "cell_type": "code",
   "execution_count": 22,
   "id": "80468fb8",
   "metadata": {},
   "outputs": [
    {
     "data": {
      "text/plain": [
       "46391    Documentary\n",
       "Name: overview, dtype: object"
      ]
     },
     "execution_count": 22,
     "metadata": {},
     "output_type": "execute_result"
    }
   ],
   "source": [
    "movies[(movies['overview'].apply(lambda x: len(x)) == 11)]['overview']"
   ]
  },
  {
   "cell_type": "code",
   "execution_count": 23,
   "id": "c9cf7a9c",
   "metadata": {},
   "outputs": [
    {
     "data": {
      "text/plain": [
       "13"
      ]
     },
     "execution_count": 23,
     "metadata": {},
     "output_type": "execute_result"
    }
   ],
   "source": [
    "movies[~(movies['overview'].apply(lambda x: len(x)) <= 11)]['overview'].apply(lambda x: len(x)).min()"
   ]
  },
  {
   "cell_type": "code",
   "execution_count": 24,
   "id": "a09bb0a0",
   "metadata": {},
   "outputs": [
    {
     "data": {
      "text/plain": [
       "708      German Comedy\n",
       "28758    A heist movie\n",
       "34931    Eurospy movie\n",
       "Name: overview, dtype: object"
      ]
     },
     "execution_count": 24,
     "metadata": {},
     "output_type": "execute_result"
    }
   ],
   "source": [
    "movies[(movies['overview'].apply(lambda x: len(x)) == 13)]['overview']"
   ]
  },
  {
   "cell_type": "code",
   "execution_count": 25,
   "id": "7eeb8220",
   "metadata": {},
   "outputs": [
    {
     "data": {
      "text/plain": [
       "14"
      ]
     },
     "execution_count": 25,
     "metadata": {},
     "output_type": "execute_result"
    }
   ],
   "source": [
    "movies[~(movies['overview'].apply(lambda x: len(x)) <= 13)]['overview'].apply(lambda x: len(x)).min()"
   ]
  },
  {
   "cell_type": "code",
   "execution_count": 26,
   "id": "6216d617",
   "metadata": {},
   "outputs": [
    {
     "data": {
      "text/plain": [
       "33847    Italian comedy\n",
       "Name: overview, dtype: object"
      ]
     },
     "execution_count": 26,
     "metadata": {},
     "output_type": "execute_result"
    }
   ],
   "source": [
    "movies[(movies['overview'].apply(lambda x: len(x)) == 14)]['overview']"
   ]
  },
  {
   "cell_type": "code",
   "execution_count": 27,
   "id": "83a46c34",
   "metadata": {},
   "outputs": [
    {
     "data": {
      "text/plain": [
       "16"
      ]
     },
     "execution_count": 27,
     "metadata": {},
     "output_type": "execute_result"
    }
   ],
   "source": [
    "movies[~(movies['overview'].apply(lambda x: len(x)) <= 14)]['overview'].apply(lambda x: len(x)).min()"
   ]
  },
  {
   "cell_type": "code",
   "execution_count": 28,
   "id": "6a6909cb",
   "metadata": {},
   "outputs": [
    {
     "data": {
      "text/plain": [
       "17264    Return of Django\n",
       "20515    No overview yet.\n",
       "Name: overview, dtype: object"
      ]
     },
     "execution_count": 28,
     "metadata": {},
     "output_type": "execute_result"
    }
   ],
   "source": [
    "movies[(movies['overview'].apply(lambda x: len(x)) == 16)]['overview']"
   ]
  },
  {
   "cell_type": "code",
   "execution_count": 29,
   "id": "447b3c0b",
   "metadata": {},
   "outputs": [
    {
     "data": {
      "text/plain": [
       "17"
      ]
     },
     "execution_count": 29,
     "metadata": {},
     "output_type": "execute_result"
    }
   ],
   "source": [
    "movies[~(movies['overview'].apply(lambda x: len(x)) <= 16)]['overview'].apply(lambda x: len(x)).min()"
   ]
  },
  {
   "cell_type": "code",
   "execution_count": 30,
   "id": "584ad869",
   "metadata": {},
   "outputs": [
    {
     "data": {
      "text/plain": [
       "44556    Independent movie\n",
       "45971    Never at the sea.\n",
       "Name: overview, dtype: object"
      ]
     },
     "execution_count": 30,
     "metadata": {},
     "output_type": "execute_result"
    }
   ],
   "source": [
    "movies[(movies['overview'].apply(lambda x: len(x)) == 17)]['overview']"
   ]
  },
  {
   "cell_type": "code",
   "execution_count": 31,
   "id": "3a431df0",
   "metadata": {},
   "outputs": [
    {
     "data": {
      "text/plain": [
       "18"
      ]
     },
     "execution_count": 31,
     "metadata": {},
     "output_type": "execute_result"
    }
   ],
   "source": [
    "movies[~(movies['overview'].apply(lambda x: len(x)) <= 17)]['overview'].apply(lambda x: len(x)).min()"
   ]
  },
  {
   "cell_type": "code",
   "execution_count": 32,
   "id": "4b9798c3",
   "metadata": {},
   "outputs": [
    {
     "data": {
      "text/plain": [
       "104      No overview found.\n",
       "947      No overview found.\n",
       "12682    No overview found.\n",
       "12759    No overview found.\n",
       "15826    No overview found.\n",
       "16302    No overview found.\n",
       "17944    Film by Juha Rosma\n",
       "19149    No overview found.\n",
       "19817    No overview found.\n",
       "20251    No overview found.\n",
       "22587    No overview found.\n",
       "23033    No overview found.\n",
       "24181    No overview found.\n",
       "24817    No overview found.\n",
       "26746    No overview found.\n",
       "27928    No overview found.\n",
       "27954    No overview found.\n",
       "28493    No overview found.\n",
       "29707    No overview found.\n",
       "30260    No overview found.\n",
       "31884    No overview found.\n",
       "34157    No overview found.\n",
       "34167    No overview found.\n",
       "34252    No overview found.\n",
       "35071    No overview found.\n",
       "35266    No overview found.\n",
       "35482    No overview found.\n",
       "35654    No overview found.\n",
       "35656    No overview found.\n",
       "35658    No overview found.\n",
       "35661    No overview found.\n",
       "36220    No overview found.\n",
       "36222    No overview found.\n",
       "37318    No overview found.\n",
       "37800    No overview found.\n",
       "38675    No overview found.\n",
       "38864    No overview found.\n",
       "39673    No overview found.\n",
       "40773    No overview found.\n",
       "40853    No overview found.\n",
       "41520    No overview found.\n",
       "45230    No overview found.\n",
       "45973    No overview found.\n",
       "46184    No overview found.\n",
       "46533    Short film release\n",
       "Name: overview, dtype: object"
      ]
     },
     "execution_count": 32,
     "metadata": {},
     "output_type": "execute_result"
    }
   ],
   "source": [
    "movies[(movies['overview'].apply(lambda x: len(x)) == 18)]['overview']"
   ]
  },
  {
   "cell_type": "code",
   "execution_count": 33,
   "id": "94dc17e3",
   "metadata": {},
   "outputs": [
    {
     "data": {
      "text/plain": [
       "25"
      ]
     },
     "execution_count": 33,
     "metadata": {},
     "output_type": "execute_result"
    }
   ],
   "source": [
    "movies[~(movies['overview'].apply(lambda x: len(x)) <= 24)]['overview'].apply(lambda x: len(x)).min()"
   ]
  },
  {
   "cell_type": "code",
   "execution_count": 34,
   "id": "26eeaa7f",
   "metadata": {},
   "outputs": [
    {
     "data": {
      "text/plain": [
       "17585    A film by Juho Kuosmanen.\n",
       "21175    Finnish soft erotic movie\n",
       "34185    Directed by  Özcan Deniz.\n",
       "37157    Prohibition-era thriller.\n",
       "38179    Fourth Break Blade Movie.\n",
       "Name: overview, dtype: object"
      ]
     },
     "execution_count": 34,
     "metadata": {},
     "output_type": "execute_result"
    }
   ],
   "source": [
    "movies[(movies['overview'].apply(lambda x: len(x)) == 25)]['overview']"
   ]
  },
  {
   "cell_type": "code",
   "execution_count": 35,
   "id": "356a9626",
   "metadata": {},
   "outputs": [
    {
     "data": {
      "text/plain": [
       "(47794, 8)"
      ]
     },
     "execution_count": 35,
     "metadata": {},
     "output_type": "execute_result"
    }
   ],
   "source": [
    "movies[~(movies['overview'].apply(lambda x: len(x)) <= 25)].shape"
   ]
  },
  {
   "cell_type": "code",
   "execution_count": 36,
   "id": "13e5c68d",
   "metadata": {},
   "outputs": [
    {
     "data": {
      "text/plain": [
       "array(['A comedy about a couple who cannot conceive a baby',\n",
       "       'A surfer becomes the head of a major company.',\n",
       "       'The story of Johann Strauss the elder and younger.',\n",
       "       'Interracial love story set in Detroit.',\n",
       "       'An alien creature stalks human prey.',\n",
       "       'Domestic robots fall in love and run off together.',\n",
       "       'A young boy trades the family cow for magic beans.',\n",
       "       'A criminal holds a wealthy family hostage.',\n",
       "       \"Documentary on the director's meeting with Castro.\",\n",
       "       'A black female TV producer struggles in Hollywood.',\n",
       "       'A mysterious girl inspires a struggling artist.',\n",
       "       'An extremely nice guy falls for a really bad girl',\n",
       "       \"A simple funeral turns a man's world upside down.\",\n",
       "       'A con man tries to blackmail a Mexican gangster.',\n",
       "       'Giant mutant rabbits terrorize the southwest!!',\n",
       "       'A safecracker turns double agent during WWII.',\n",
       "       'Vampires terrorize a city in Norrbotten, Sweden.',\n",
       "       'A 15-episode serial starring Buster Crabbe.',\n",
       "       \"A man is haunted by a murder he's committed.\",\n",
       "       'An all-star revue featuring MGM contract players.',\n",
       "       'The story of American film criticism.',\n",
       "       'A group of sailors invest in a musical revue.',\n",
       "       'The 1965 version of the Shakespeare play.',\n",
       "       'Discovery Channel documentary',\n",
       "       'A killer holds the customers at a bar hostage.',\n",
       "       'A film producer struggles with suicidal despair.',\n",
       "       'A former comic is on the run from the mob.',\n",
       "       'The story of how Mystery Inc. was formed.',\n",
       "       'Three friends get caught in a life of major crime.',\n",
       "       \"A drama steeped in Portugal's Fado music culture.\",\n",
       "       'A young man succumbs to gambling fever.',\n",
       "       'A finnish TV-movie by Jukka Sipilä',\n",
       "       'A comedic deja vu story of runaway young love.',\n",
       "       \"Adaptation of Arthur Miller's play.\",\n",
       "       'A satirical look at modern technology.',\n",
       "       'The real first comedy about love.',\n",
       "       'A comedic look at the life of Steve Jobs.',\n",
       "       'Charlie takes care of a man in a wheelchair.',\n",
       "       'A PC becomes a vigilante after a head trauma.',\n",
       "       'A documentary on the famous Los Angeles street.',\n",
       "       'Documentary about horror fans',\n",
       "       'The final days of Hank Williams.',\n",
       "       'Unscrupulous women marry servicemen for their pay.',\n",
       "       'Rock concert to protest nuclear arms.',\n",
       "       'A low-budget re-telling of the classic fairy tale.',\n",
       "       'A mad bomber holds an innocent family hostage.',\n",
       "       \"A paraplegic mistakes a man's pity for love.\",\n",
       "       'MGM remake of Asphalt Jungle set in Egypt.',\n",
       "       'A decoding expert tangles with enemy spies.',\n",
       "       'A story about friendship, lie and truth...',\n",
       "       'A gangster takes a doctor and his family hostage.',\n",
       "       \"Two families go to an open house and can't leave\",\n",
       "       'A murder-à-trois in every conceivable way.',\n",
       "       'Adventure comedy directed by Bruno Corbucci.',\n",
       "       'An ex-con becomes a daredevil photojournalist.',\n",
       "       'When your memory lies, how do you find the truth?',\n",
       "       'World War II farce about the hotel of the title',\n",
       "       'A comic movie divided in three episodes.',\n",
       "       'Eurocrime/Poliziotteschi movie from 1978',\n",
       "       'A prostitute sets out to frame a cop.',\n",
       "       \"Adaptation of Rudyard Kipling's novel.\",\n",
       "       'A millionaire courts a working-class woman.',\n",
       "       \"Adaptation of Eugene O'Neill's play.\",\n",
       "       \"A young man stalks his mother's killers.\",\n",
       "       'A mad genius tries to bomb the world into peace.',\n",
       "       \"A flapper unwittingly falls for the boss' son.\",\n",
       "       'The cavalry defend a small town from indians.',\n",
       "       'A salaryman is hijacked by bank robbers.',\n",
       "       'Three anti-war activists hijack a B-52 bomber.',\n",
       "       'The comedy trio performs live in Boston.',\n",
       "       'A sexually frustrated young man kills hookers.',\n",
       "       'Eloise insists on helping with yuletide nuptials.',\n",
       "       '10-year-old Eli finds himself at summer camp.',\n",
       "       'An 8-year-old boy tracks down his father.',\n",
       "       'Mysteries keep revolving around Tam’s life.',\n",
       "       'Also known as Santo vs. the She-Wolves',\n",
       "       'Documentary about the Detroit Pistons.',\n",
       "       'Temple of the White Elephant',\n",
       "       'The life and times of Tommy Cooper',\n",
       "       'A tramp finds a gun lying in the street.',\n",
       "       \"Remake of Josef von Sternberg's 1930 classic.\",\n",
       "       'No movie overview available.',\n",
       "       \"This cop doesn't carry a gun - his fist is loaded!\",\n",
       "       'Two oafs must rescue their stranded pal in Mexico.',\n",
       "       'The documentary story of Harlan Ellison',\n",
       "       'Italian comedy film in three segments',\n",
       "       'A lunkhead gets involved with a femme fatale.',\n",
       "       'The true story of serial killer Henry Lee Lucas.',\n",
       "       'Outlaws on the lam battle attacking Apaches.',\n",
       "       \"A sequel to the MGM 1950 King Solomon's Mines.\",\n",
       "       'Italian sex comedy version of Arabian Nights',\n",
       "       \"Documentary that explores Argento's film career.\",\n",
       "       'A drama directed by Damiano Damiani.',\n",
       "       'A woodcutter goes about his work.',\n",
       "       'Documentary about basketball star Dirk Nowitzki.',\n",
       "       'Eco-terrorists attack a ship carrying toxic waste.',\n",
       "       'Scrat struggles once again to protect his nut.',\n",
       "       \"Silent adaptation of Shakespeare's King Lear\",\n",
       "       'A family goes through a divorce.',\n",
       "       'A man attempts to marry into a wealthy family.',\n",
       "       'In a pound, 18 dogs wait to be adopted.',\n",
       "       '1959 television science fiction',\n",
       "       'The adventures of a cad in Napoleonic times.',\n",
       "       'African set action thriller',\n",
       "       'A soldier loses his girlfriend to his best buddy.',\n",
       "       'An ugly ducking attempts to become desirable.',\n",
       "       'The king of the jungle fights off ivory poachers.',\n",
       "       'Helen Twelvetrees stars in this romantic drama.',\n",
       "       'The third part of Seventh Company adventures.',\n",
       "       'Stewardesses battle kung fu killers.',\n",
       "       'What would you do if you could change the past?',\n",
       "       'Portrait of the popular Dutch singer André Hazes.',\n",
       "       'A scientist is turned into an ape man.',\n",
       "       'Sach and the gang baby-sit a bratty TV star.',\n",
       "       'An electric shock enables Sach to predict numbers.',\n",
       "       'Wartime workers deal with homefront dramatics.',\n",
       "       'Documentary portrait of Andy Warhol.',\n",
       "       'A spy story set in Vienna...',\n",
       "       'A cop is looking for the killer of his friend.',\n",
       "       'A remake of the 1973 action film of the same name.',\n",
       "       'Reversing Diabetes in 30 Days.',\n",
       "       'A dog leads its master to his kidnapped baby.',\n",
       "       'The life story of Brazilian football legend, Pele.',\n",
       "       'Two Marine pilots vie for romance and glory.',\n",
       "       'Comedy about a bandleader with hypnotic powers.',\n",
       "       'A woman is haunted by her dead daughter.',\n",
       "       'A Muslim girl and a Jewish boy fall in love.',\n",
       "       'Samson and Delilah tv movie',\n",
       "       'A friendly trapper tries to escape civilization.',\n",
       "       'Musical about vaudeville performers, from 1944.',\n",
       "       'Humphrey Bogart documentary narrated by his son.',\n",
       "       'An Englishman falls in love with a Russian spy.',\n",
       "       'Three strongmen hunt down a murderous sea monster.',\n",
       "       'Short story \"Metel\" from volume \"Povesti Belkina\".',\n",
       "       'Old West. New Soul. Big Payback.', '15 chapter western serial.',\n",
       "       'Compilation of the show Blue Light.',\n",
       "       \"Valentin Vaala's film from 1937.\",\n",
       "       'The life and death of the tropical singer Gilda.',\n",
       "       'Birds go berserk and turn against mankind.',\n",
       "       'The last film of Jean Gabin.', 'Directed by Slavko Spionjak.',\n",
       "       'No movie overview available.',\n",
       "       'A crime movie directed by Marvin Kren.',\n",
       "       'The life and tragic death of Whitney Houston.',\n",
       "       'A teen comedy with cool cars and fast driving.',\n",
       "       'Jimmy Arnaud eulogizes his mother.',\n",
       "       'Three stories based on O. Henry novels.',\n",
       "       'Drama film about different lifes of twin brothers.',\n",
       "       'First animation about Gena and Cheburashka.',\n",
       "       'Baby Mammoth is looking for his Mom.',\n",
       "       'Can you solve the mystery of the 13 moons?',\n",
       "       'Sci-fi thriller directed by Fred Gallo.',\n",
       "       'A boy learns to play the piano.',\n",
       "       \"Rossellini's interpretation of Descartes' life.\",\n",
       "       'Based on a famous fairytale by Yuri Olesha.',\n",
       "       'Biography of humorist and movie star Will Rogers',\n",
       "       \"A few stories about a marriages and it's problems.\",\n",
       "       'The story of Elijah Harper.....',\n",
       "       'Retro-futuristic timetravel-mystery.',\n",
       "       'An ant dreams of visiting the Taj Mahal.',\n",
       "       'No movie overview available.',\n",
       "       'A failed actor finds success as a radio singer.',\n",
       "       'The life and times of a Casablanca cafe waiter.',\n",
       "       'A singing cowboy turns out to be a tenderfoot.',\n",
       "       'A book of nursery rhymes plays for Old King Cole.',\n",
       "       'A romantic comedy about love and music.',\n",
       "       'Police track a serial killer.',\n",
       "       'The Top 100 Moments In Raw History.',\n",
       "       \"A retelling of Edgar Allan's Poe haunting tale.\",\n",
       "       'A mermaid pursues a teacher by attending school.',\n",
       "       'Inspirational Movie for young and elders',\n",
       "       'Barankoboti, transforming.',\n",
       "       'A musician tries to get by working several jobs.',\n",
       "       'A fairytale based on Alexander Pushkin novel.',\n",
       "       \"Biography about boxer Joergen 'Gamle' Hansen.\",\n",
       "       'A girl dreams of becoming a kitten.',\n",
       "       'Stainboy visits his troubled past.',\n",
       "       'A mysterious disease threatens airline passengers.',\n",
       "       'A Dutch documentary film about Robert Bresson.',\n",
       "       'The bio-epic about the infamous John Paul Jones.',\n",
       "       'Adaptation of the novel by Oscar Wilde.',\n",
       "       \"Guy Debord's analysis of a consumer society.\"], dtype=object)"
      ]
     },
     "execution_count": 36,
     "metadata": {},
     "output_type": "execute_result"
    }
   ],
   "source": [
    "movies[(movies['overview'].apply(lambda x: len(x)) <= 50) & (movies['overview'].apply(lambda x: len(x)) > 25)]['overview'].values"
   ]
  },
  {
   "cell_type": "markdown",
   "id": "5b850335",
   "metadata": {},
   "source": [
    "### Looks like >25 words is a good floor for minimumn length of meaningful plot summaries"
   ]
  },
  {
   "cell_type": "code",
   "execution_count": 37,
   "id": "31216db4",
   "metadata": {},
   "outputs": [
    {
     "name": "stdout",
     "output_type": "stream",
     "text": [
      "(47794, 8)\n"
     ]
    },
    {
     "data": {
      "text/plain": [
       "26"
      ]
     },
     "execution_count": 37,
     "metadata": {},
     "output_type": "execute_result"
    }
   ],
   "source": [
    "movies = movies[(movies['overview'].apply(lambda x: len(x)) > 25)].reset_index(drop=True)\n",
    "print(movies.shape)\n",
    "movies['overview'].apply(lambda x: len(x)).min()"
   ]
  },
  {
   "cell_type": "markdown",
   "id": "16fb5e20",
   "metadata": {},
   "source": [
    "### Need to detect and remove rows where the 'overview' is not in English"
   ]
  },
  {
   "cell_type": "markdown",
   "id": "fd8609dc",
   "metadata": {},
   "source": [
    "#### This workaround utility function to catch \"bad\" utf-8 encodings that cause pycld2 to crash comes from this link: \n",
    "#### https://github.com/aboSamoor/polyglot/issues/71"
   ]
  },
  {
   "cell_type": "code",
   "execution_count": 39,
   "id": "d8960069",
   "metadata": {},
   "outputs": [
    {
     "data": {
      "text/plain": [
       "'A bad char'"
      ]
     },
     "execution_count": 39,
     "metadata": {},
     "output_type": "execute_result"
    }
   ],
   "source": [
    "RE_BAD_CHARS = regex.compile(r\"\\p{Cc}|\\p{Cs}\")\n",
    "\n",
    "def remove_bad_chars(text):\n",
    "    return RE_BAD_CHARS.sub(\"\", text)\n",
    "\n",
    "remove_bad_chars(\"A\\x96 bad char\")  # Cc category\n",
    "# 'A bad char'"
   ]
  },
  {
   "cell_type": "code",
   "execution_count": 40,
   "id": "784d1909",
   "metadata": {},
   "outputs": [],
   "source": [
    "def lang_det(x):\n",
    "    _, _, detected_language, _ = cld2.detect(remove_bad_chars(x),  returnVectors=True)\n",
    "    return detected_language[0][0]\n",
    "\n",
    "movies['overview_lang'] = movies['overview'].map(lang_det)"
   ]
  },
  {
   "cell_type": "code",
   "execution_count": 41,
   "id": "1dba9c02",
   "metadata": {},
   "outputs": [
    {
     "data": {
      "text/plain": [
       "ENGLISH       47708\n",
       "FRENCH           28\n",
       "Unknown          15\n",
       "SPANISH           6\n",
       "ITALIAN           5\n",
       "POLISH            5\n",
       "DUTCH             5\n",
       "RUSSIAN           4\n",
       "TURKISH           4\n",
       "CZECH             3\n",
       "FINNISH           3\n",
       "SWEDISH           2\n",
       "GERMAN            2\n",
       "HUNGARIAN         1\n",
       "PORTUGUESE        1\n",
       "GREEK             1\n",
       "Japanese          1\n",
       "Name: overview_lang, dtype: int64"
      ]
     },
     "execution_count": 41,
     "metadata": {},
     "output_type": "execute_result"
    }
   ],
   "source": [
    "movies['overview_lang'].value_counts()"
   ]
  },
  {
   "cell_type": "code",
   "execution_count": 42,
   "id": "eb4d89a3",
   "metadata": {},
   "outputs": [
    {
     "data": {
      "text/html": [
       "<div>\n",
       "<style scoped>\n",
       "    .dataframe tbody tr th:only-of-type {\n",
       "        vertical-align: middle;\n",
       "    }\n",
       "\n",
       "    .dataframe tbody tr th {\n",
       "        vertical-align: top;\n",
       "    }\n",
       "\n",
       "    .dataframe thead th {\n",
       "        text-align: right;\n",
       "    }\n",
       "</style>\n",
       "<table border=\"1\" class=\"dataframe\">\n",
       "  <thead>\n",
       "    <tr style=\"text-align: right;\">\n",
       "      <th></th>\n",
       "      <th>movieId</th>\n",
       "      <th>tmdbId</th>\n",
       "      <th>imdbId</th>\n",
       "      <th>title</th>\n",
       "      <th>genres</th>\n",
       "      <th>overview</th>\n",
       "      <th>director</th>\n",
       "      <th>actors</th>\n",
       "      <th>overview_lang</th>\n",
       "    </tr>\n",
       "  </thead>\n",
       "  <tbody>\n",
       "    <tr>\n",
       "      <th>1776</th>\n",
       "      <td>1950</td>\n",
       "      <td>10633</td>\n",
       "      <td>61811</td>\n",
       "      <td>In the Heat of the Night</td>\n",
       "      <td>[Drama, Mystery]</td>\n",
       "      <td>An African American detective is asked to inve...</td>\n",
       "      <td>norman_jewison</td>\n",
       "      <td>[sidney_poitier, rod_steiger, warren_oates, le...</td>\n",
       "      <td>Unknown</td>\n",
       "    </tr>\n",
       "    <tr>\n",
       "      <th>8081</th>\n",
       "      <td>9011</td>\n",
       "      <td>32558</td>\n",
       "      <td>40705</td>\n",
       "      <td>Portrait of Jennie</td>\n",
       "      <td>[Drama, Fantasy, Mystery, Romance]</td>\n",
       "      <td>A mysterious girl inspires a struggling artist.</td>\n",
       "      <td>william_dieterle</td>\n",
       "      <td>[jennifer_jones, joseph_cotten, ethel_barrymor...</td>\n",
       "      <td>Unknown</td>\n",
       "    </tr>\n",
       "    <tr>\n",
       "      <th>10586</th>\n",
       "      <td>44663</td>\n",
       "      <td>31289</td>\n",
       "      <td>429727</td>\n",
       "      <td>The Caiman</td>\n",
       "      <td>[Comedy, Drama, Romance]</td>\n",
       "      <td>A skewering of Italian Prime Minister Silvio B...</td>\n",
       "      <td>nanni_moretti</td>\n",
       "      <td>[silvio_orlando, margherita_buy, jasmine_trinc...</td>\n",
       "      <td>Unknown</td>\n",
       "    </tr>\n",
       "    <tr>\n",
       "      <th>11406</th>\n",
       "      <td>52224</td>\n",
       "      <td>297853</td>\n",
       "      <td>250790</td>\n",
       "      <td>Turn of Faith</td>\n",
       "      <td>[Crime, Drama]</td>\n",
       "      <td>Mob drama starring Ray 'Boom Boom' Mancini, Mi...</td>\n",
       "      <td>charles_jarrott</td>\n",
       "      <td>[ray_mancini, mia_sara, costas_mandylor, alan_...</td>\n",
       "      <td>Unknown</td>\n",
       "    </tr>\n",
       "    <tr>\n",
       "      <th>11792</th>\n",
       "      <td>55462</td>\n",
       "      <td>13319</td>\n",
       "      <td>454457</td>\n",
       "      <td>Frostbitten</td>\n",
       "      <td>[Comedy, Horror]</td>\n",
       "      <td>Vampires terrorize a city in Norrbotten, Sweden.</td>\n",
       "      <td>anders_banke</td>\n",
       "      <td>[petra_nielsen, carl-åke_eriksson, grete_havne...</td>\n",
       "      <td>Unknown</td>\n",
       "    </tr>\n",
       "    <tr>\n",
       "      <th>16442</th>\n",
       "      <td>86902</td>\n",
       "      <td>63858</td>\n",
       "      <td>45492</td>\n",
       "      <td>All I Desire</td>\n",
       "      <td>[Drama, Romance]</td>\n",
       "      <td>In 1910, a wayward mother re-visits the family...</td>\n",
       "      <td>douglas_sirk</td>\n",
       "      <td>[barbara_stanwyck, richard_carlson, lyle_bettg...</td>\n",
       "      <td>Unknown</td>\n",
       "    </tr>\n",
       "    <tr>\n",
       "      <th>26044</th>\n",
       "      <td>124803</td>\n",
       "      <td>157343</td>\n",
       "      <td>24090</td>\n",
       "      <td>Hard to Handle</td>\n",
       "      <td>[Comedy, Romance]</td>\n",
       "      <td>A hustling public relations man promotes a ser...</td>\n",
       "      <td>mervyn_leroy</td>\n",
       "      <td>[james_cagney, mary_brian, allen_jenkins, ruth...</td>\n",
       "      <td>Unknown</td>\n",
       "    </tr>\n",
       "    <tr>\n",
       "      <th>28633</th>\n",
       "      <td>133622</td>\n",
       "      <td>271561</td>\n",
       "      <td>52638</td>\n",
       "      <td>The Blue Angel</td>\n",
       "      <td>[Drama, Romance]</td>\n",
       "      <td>Remake of Josef von Sternberg's 1930 classic.</td>\n",
       "      <td>edward_dmytryk</td>\n",
       "      <td>[curd_jürgens, may_britt, theodore_bikel, john...</td>\n",
       "      <td>Unknown</td>\n",
       "    </tr>\n",
       "    <tr>\n",
       "      <th>29002</th>\n",
       "      <td>134710</td>\n",
       "      <td>279960</td>\n",
       "      <td>3883282</td>\n",
       "      <td>I Am Road Comic</td>\n",
       "      <td>[Documentary]</td>\n",
       "      <td>Interviews with T.J. Miller, Pete Holmes, Marc...</td>\n",
       "      <td>jordan_brady</td>\n",
       "      <td>[maria_bamford, w._kamau_bell, wayne_federman,...</td>\n",
       "      <td>Unknown</td>\n",
       "    </tr>\n",
       "    <tr>\n",
       "      <th>31884</th>\n",
       "      <td>143609</td>\n",
       "      <td>262976</td>\n",
       "      <td>54304</td>\n",
       "      <td>Blood Feud</td>\n",
       "      <td>[Crime, Drama]</td>\n",
       "      <td>A drama directed by Damiano Damiani.</td>\n",
       "      <td>damiano_damiani</td>\n",
       "      <td>[belinda_lee, sylva_koscina, sergio_fantoni, a...</td>\n",
       "      <td>Unknown</td>\n",
       "    </tr>\n",
       "    <tr>\n",
       "      <th>39478</th>\n",
       "      <td>167872</td>\n",
       "      <td>74786</td>\n",
       "      <td>31764</td>\n",
       "      <td>The Oregon Trail</td>\n",
       "      <td>[Action, Western]</td>\n",
       "      <td>15 chapter western serial.</td>\n",
       "      <td>ford_beebe</td>\n",
       "      <td>[johnny_mack_brown, louise_stanley, fuzzy_knig...</td>\n",
       "      <td>Unknown</td>\n",
       "    </tr>\n",
       "    <tr>\n",
       "      <th>43562</th>\n",
       "      <td>180109</td>\n",
       "      <td>484917</td>\n",
       "      <td>5782146</td>\n",
       "      <td>The Man with the Magic Box</td>\n",
       "      <td>[Romance, Sci-Fi]</td>\n",
       "      <td>Retro-futuristic timetravel-mystery.</td>\n",
       "      <td>bodo_kox</td>\n",
       "      <td>[olga_bołądź, piotr_polak, sebastian_stankiewi...</td>\n",
       "      <td>Unknown</td>\n",
       "    </tr>\n",
       "    <tr>\n",
       "      <th>44433</th>\n",
       "      <td>183311</td>\n",
       "      <td>25494</td>\n",
       "      <td>45334</td>\n",
       "      <td>Without Warning!</td>\n",
       "      <td>[Crime, Thriller]</td>\n",
       "      <td>Police track a serial killer.</td>\n",
       "      <td>arnold_laven</td>\n",
       "      <td>[adam_williams, meg_randall, harlan_warde, edw...</td>\n",
       "      <td>Unknown</td>\n",
       "    </tr>\n",
       "    <tr>\n",
       "      <th>45287</th>\n",
       "      <td>185781</td>\n",
       "      <td>332290</td>\n",
       "      <td>260421</td>\n",
       "      <td>The Tell-Tale Heart</td>\n",
       "      <td>[Crime, Drama, Horror]</td>\n",
       "      <td>A retelling of Edgar Allan's Poe haunting tale.</td>\n",
       "      <td>steve_carver</td>\n",
       "      <td>[alex_cord, edward_binns, dennis_cross, dan_de...</td>\n",
       "      <td>Unknown</td>\n",
       "    </tr>\n",
       "    <tr>\n",
       "      <th>46045</th>\n",
       "      <td>188001</td>\n",
       "      <td>248377</td>\n",
       "      <td>2403528</td>\n",
       "      <td>Barankin, bud chelovekom</td>\n",
       "      <td>[Animation]</td>\n",
       "      <td>Barankoboti, transforming.</td>\n",
       "      <td>aleksandra_snezhko-blotskaya</td>\n",
       "      <td>[klara_rumyanova, mariya_vinogradova, boris_ru...</td>\n",
       "      <td>Unknown</td>\n",
       "    </tr>\n",
       "  </tbody>\n",
       "</table>\n",
       "</div>"
      ],
      "text/plain": [
       "       movieId  tmdbId   imdbId                       title  \\\n",
       "1776      1950   10633    61811    In the Heat of the Night   \n",
       "8081      9011   32558    40705          Portrait of Jennie   \n",
       "10586    44663   31289   429727                  The Caiman   \n",
       "11406    52224  297853   250790               Turn of Faith   \n",
       "11792    55462   13319   454457                 Frostbitten   \n",
       "16442    86902   63858    45492                All I Desire   \n",
       "26044   124803  157343    24090              Hard to Handle   \n",
       "28633   133622  271561    52638              The Blue Angel   \n",
       "29002   134710  279960  3883282             I Am Road Comic   \n",
       "31884   143609  262976    54304                  Blood Feud   \n",
       "39478   167872   74786    31764            The Oregon Trail   \n",
       "43562   180109  484917  5782146  The Man with the Magic Box   \n",
       "44433   183311   25494    45334            Without Warning!   \n",
       "45287   185781  332290   260421         The Tell-Tale Heart   \n",
       "46045   188001  248377  2403528    Barankin, bud chelovekom   \n",
       "\n",
       "                                   genres  \\\n",
       "1776                     [Drama, Mystery]   \n",
       "8081   [Drama, Fantasy, Mystery, Romance]   \n",
       "10586            [Comedy, Drama, Romance]   \n",
       "11406                      [Crime, Drama]   \n",
       "11792                    [Comedy, Horror]   \n",
       "16442                    [Drama, Romance]   \n",
       "26044                   [Comedy, Romance]   \n",
       "28633                    [Drama, Romance]   \n",
       "29002                       [Documentary]   \n",
       "31884                      [Crime, Drama]   \n",
       "39478                   [Action, Western]   \n",
       "43562                   [Romance, Sci-Fi]   \n",
       "44433                   [Crime, Thriller]   \n",
       "45287              [Crime, Drama, Horror]   \n",
       "46045                         [Animation]   \n",
       "\n",
       "                                                overview  \\\n",
       "1776   An African American detective is asked to inve...   \n",
       "8081     A mysterious girl inspires a struggling artist.   \n",
       "10586  A skewering of Italian Prime Minister Silvio B...   \n",
       "11406  Mob drama starring Ray 'Boom Boom' Mancini, Mi...   \n",
       "11792   Vampires terrorize a city in Norrbotten, Sweden.   \n",
       "16442  In 1910, a wayward mother re-visits the family...   \n",
       "26044  A hustling public relations man promotes a ser...   \n",
       "28633      Remake of Josef von Sternberg's 1930 classic.   \n",
       "29002  Interviews with T.J. Miller, Pete Holmes, Marc...   \n",
       "31884               A drama directed by Damiano Damiani.   \n",
       "39478                         15 chapter western serial.   \n",
       "43562               Retro-futuristic timetravel-mystery.   \n",
       "44433                      Police track a serial killer.   \n",
       "45287    A retelling of Edgar Allan's Poe haunting tale.   \n",
       "46045                         Barankoboti, transforming.   \n",
       "\n",
       "                           director  \\\n",
       "1776                 norman_jewison   \n",
       "8081               william_dieterle   \n",
       "10586                 nanni_moretti   \n",
       "11406               charles_jarrott   \n",
       "11792                  anders_banke   \n",
       "16442                  douglas_sirk   \n",
       "26044                  mervyn_leroy   \n",
       "28633                edward_dmytryk   \n",
       "29002                  jordan_brady   \n",
       "31884               damiano_damiani   \n",
       "39478                    ford_beebe   \n",
       "43562                      bodo_kox   \n",
       "44433                  arnold_laven   \n",
       "45287                  steve_carver   \n",
       "46045  aleksandra_snezhko-blotskaya   \n",
       "\n",
       "                                                  actors overview_lang  \n",
       "1776   [sidney_poitier, rod_steiger, warren_oates, le...       Unknown  \n",
       "8081   [jennifer_jones, joseph_cotten, ethel_barrymor...       Unknown  \n",
       "10586  [silvio_orlando, margherita_buy, jasmine_trinc...       Unknown  \n",
       "11406  [ray_mancini, mia_sara, costas_mandylor, alan_...       Unknown  \n",
       "11792  [petra_nielsen, carl-åke_eriksson, grete_havne...       Unknown  \n",
       "16442  [barbara_stanwyck, richard_carlson, lyle_bettg...       Unknown  \n",
       "26044  [james_cagney, mary_brian, allen_jenkins, ruth...       Unknown  \n",
       "28633  [curd_jürgens, may_britt, theodore_bikel, john...       Unknown  \n",
       "29002  [maria_bamford, w._kamau_bell, wayne_federman,...       Unknown  \n",
       "31884  [belinda_lee, sylva_koscina, sergio_fantoni, a...       Unknown  \n",
       "39478  [johnny_mack_brown, louise_stanley, fuzzy_knig...       Unknown  \n",
       "43562  [olga_bołądź, piotr_polak, sebastian_stankiewi...       Unknown  \n",
       "44433  [adam_williams, meg_randall, harlan_warde, edw...       Unknown  \n",
       "45287  [alex_cord, edward_binns, dennis_cross, dan_de...       Unknown  \n",
       "46045  [klara_rumyanova, mariya_vinogradova, boris_ru...       Unknown  "
      ]
     },
     "execution_count": 42,
     "metadata": {},
     "output_type": "execute_result"
    }
   ],
   "source": [
    "movies[movies['overview_lang'] == 'Unknown']"
   ]
  },
  {
   "cell_type": "markdown",
   "id": "3cb7a675",
   "metadata": {},
   "source": [
    "#### Despite being labelled 'Unknown', the 15 movies above appear to have English overviews; drop the non-English entries:"
   ]
  },
  {
   "cell_type": "code",
   "execution_count": 43,
   "id": "f7d03319",
   "metadata": {},
   "outputs": [
    {
     "name": "stdout",
     "output_type": "stream",
     "text": [
      "(47723, 8)\n"
     ]
    },
    {
     "data": {
      "text/html": [
       "<div>\n",
       "<style scoped>\n",
       "    .dataframe tbody tr th:only-of-type {\n",
       "        vertical-align: middle;\n",
       "    }\n",
       "\n",
       "    .dataframe tbody tr th {\n",
       "        vertical-align: top;\n",
       "    }\n",
       "\n",
       "    .dataframe thead th {\n",
       "        text-align: right;\n",
       "    }\n",
       "</style>\n",
       "<table border=\"1\" class=\"dataframe\">\n",
       "  <thead>\n",
       "    <tr style=\"text-align: right;\">\n",
       "      <th></th>\n",
       "      <th>movieId</th>\n",
       "      <th>tmdbId</th>\n",
       "      <th>imdbId</th>\n",
       "      <th>title</th>\n",
       "      <th>genres</th>\n",
       "      <th>overview</th>\n",
       "      <th>director</th>\n",
       "      <th>actors</th>\n",
       "    </tr>\n",
       "  </thead>\n",
       "  <tbody>\n",
       "    <tr>\n",
       "      <th>0</th>\n",
       "      <td>1</td>\n",
       "      <td>862</td>\n",
       "      <td>114709</td>\n",
       "      <td>Toy Story</td>\n",
       "      <td>[Adventure, Animation, Children, Comedy, Fantasy]</td>\n",
       "      <td>Led by Woody, Andy's toys live happily in his ...</td>\n",
       "      <td>john_lasseter</td>\n",
       "      <td>[tom_hanks, tim_allen, don_rickles, jim_varney]</td>\n",
       "    </tr>\n",
       "    <tr>\n",
       "      <th>1</th>\n",
       "      <td>2</td>\n",
       "      <td>8844</td>\n",
       "      <td>113497</td>\n",
       "      <td>Jumanji</td>\n",
       "      <td>[Adventure, Children, Fantasy]</td>\n",
       "      <td>When siblings Judy and Peter discover an encha...</td>\n",
       "      <td>joe_johnston</td>\n",
       "      <td>[robin_williams, kirsten_dunst, bradley_pierce...</td>\n",
       "    </tr>\n",
       "    <tr>\n",
       "      <th>2</th>\n",
       "      <td>3</td>\n",
       "      <td>15602</td>\n",
       "      <td>113228</td>\n",
       "      <td>Grumpier Old Men</td>\n",
       "      <td>[Comedy, Romance]</td>\n",
       "      <td>A family wedding reignites the ancient feud be...</td>\n",
       "      <td>howard_deutch</td>\n",
       "      <td>[walter_matthau, jack_lemmon, ann-margret, sop...</td>\n",
       "    </tr>\n",
       "    <tr>\n",
       "      <th>3</th>\n",
       "      <td>4</td>\n",
       "      <td>31357</td>\n",
       "      <td>114885</td>\n",
       "      <td>Waiting to Exhale</td>\n",
       "      <td>[Comedy, Drama, Romance]</td>\n",
       "      <td>Cheated on, mistreated and stepped on, the wom...</td>\n",
       "      <td>forest_whitaker</td>\n",
       "      <td>[whitney_houston, angela_bassett, loretta_devi...</td>\n",
       "    </tr>\n",
       "    <tr>\n",
       "      <th>4</th>\n",
       "      <td>5</td>\n",
       "      <td>11862</td>\n",
       "      <td>113041</td>\n",
       "      <td>Father of the Bride Part II</td>\n",
       "      <td>[Comedy]</td>\n",
       "      <td>Just when George Banks has recovered from his ...</td>\n",
       "      <td>charles_shyer</td>\n",
       "      <td>[steve_martin, diane_keaton, martin_short, kim...</td>\n",
       "    </tr>\n",
       "  </tbody>\n",
       "</table>\n",
       "</div>"
      ],
      "text/plain": [
       "   movieId  tmdbId  imdbId                        title  \\\n",
       "0        1     862  114709                    Toy Story   \n",
       "1        2    8844  113497                      Jumanji   \n",
       "2        3   15602  113228             Grumpier Old Men   \n",
       "3        4   31357  114885            Waiting to Exhale   \n",
       "4        5   11862  113041  Father of the Bride Part II   \n",
       "\n",
       "                                              genres  \\\n",
       "0  [Adventure, Animation, Children, Comedy, Fantasy]   \n",
       "1                     [Adventure, Children, Fantasy]   \n",
       "2                                  [Comedy, Romance]   \n",
       "3                           [Comedy, Drama, Romance]   \n",
       "4                                           [Comedy]   \n",
       "\n",
       "                                            overview         director  \\\n",
       "0  Led by Woody, Andy's toys live happily in his ...    john_lasseter   \n",
       "1  When siblings Judy and Peter discover an encha...     joe_johnston   \n",
       "2  A family wedding reignites the ancient feud be...    howard_deutch   \n",
       "3  Cheated on, mistreated and stepped on, the wom...  forest_whitaker   \n",
       "4  Just when George Banks has recovered from his ...    charles_shyer   \n",
       "\n",
       "                                              actors  \n",
       "0    [tom_hanks, tim_allen, don_rickles, jim_varney]  \n",
       "1  [robin_williams, kirsten_dunst, bradley_pierce...  \n",
       "2  [walter_matthau, jack_lemmon, ann-margret, sop...  \n",
       "3  [whitney_houston, angela_bassett, loretta_devi...  \n",
       "4  [steve_martin, diane_keaton, martin_short, kim...  "
      ]
     },
     "execution_count": 43,
     "metadata": {},
     "output_type": "execute_result"
    }
   ],
   "source": [
    "movies = movies[movies['overview_lang'].isin(['ENGLISH', 'Unknown'])].drop(columns='overview_lang')\n",
    "movies = movies.reset_index(drop=True)\n",
    "\n",
    "print(movies.shape)\n",
    "movies.head()"
   ]
  },
  {
   "cell_type": "markdown",
   "id": "619c5d4e",
   "metadata": {},
   "source": [
    "### Save this dataset to file:"
   ]
  },
  {
   "cell_type": "code",
   "execution_count": 45,
   "id": "bcef7321",
   "metadata": {},
   "outputs": [],
   "source": [
    "movies.to_csv('final_dataset.csv', index=True)"
   ]
  },
  {
   "cell_type": "code",
   "execution_count": 46,
   "id": "f44caa6c",
   "metadata": {},
   "outputs": [
    {
     "name": "stdout",
     "output_type": "stream",
     "text": [
      "<class 'pandas.core.frame.DataFrame'>\n",
      "RangeIndex: 47723 entries, 0 to 47722\n",
      "Data columns (total 8 columns):\n",
      " #   Column    Non-Null Count  Dtype \n",
      "---  ------    --------------  ----- \n",
      " 0   movieId   47723 non-null  int64 \n",
      " 1   tmdbId    47723 non-null  int64 \n",
      " 2   imdbId    47723 non-null  int64 \n",
      " 3   title     47723 non-null  object\n",
      " 4   genres    47723 non-null  object\n",
      " 5   overview  47723 non-null  object\n",
      " 6   director  47723 non-null  object\n",
      " 7   actors    47723 non-null  object\n",
      "dtypes: int64(3), object(5)\n",
      "memory usage: 2.9+ MB\n"
     ]
    }
   ],
   "source": [
    "movies.info()"
   ]
  },
  {
   "cell_type": "code",
   "execution_count": 47,
   "id": "c70449f2",
   "metadata": {},
   "outputs": [
    {
     "data": {
      "text/plain": [
       "michael_curtiz      72\n",
       "john_ford           65\n",
       "richard_thorpe      53\n",
       "alfred_hitchcock    53\n",
       "henry_hathaway      50\n",
       "                    ..\n",
       "filip_tegstedt       1\n",
       "walter_boholst       1\n",
       "roger_holzberg       1\n",
       "wayne_holloway       1\n",
       "rodrigo_salomón      1\n",
       "Name: director, Length: 18010, dtype: int64"
      ]
     },
     "execution_count": 47,
     "metadata": {},
     "output_type": "execute_result"
    }
   ],
   "source": [
    "movies['director'].value_counts()"
   ]
  },
  {
   "cell_type": "code",
   "execution_count": null,
   "id": "25248734",
   "metadata": {},
   "outputs": [],
   "source": []
  }
 ],
 "metadata": {
  "kernelspec": {
   "display_name": "Python [conda env:metis] *",
   "language": "python",
   "name": "conda-env-metis-py"
  },
  "language_info": {
   "codemirror_mode": {
    "name": "ipython",
    "version": 3
   },
   "file_extension": ".py",
   "mimetype": "text/x-python",
   "name": "python",
   "nbconvert_exporter": "python",
   "pygments_lexer": "ipython3",
   "version": "3.8.10"
  }
 },
 "nbformat": 4,
 "nbformat_minor": 5
}
